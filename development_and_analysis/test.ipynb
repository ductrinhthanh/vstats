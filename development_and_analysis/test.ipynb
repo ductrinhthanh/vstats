{
 "cells": [
  {
   "cell_type": "code",
   "execution_count": 16,
   "metadata": {},
   "outputs": [],
   "source": [
    "import geopandas as gpd\n",
    "import pandas as pd\n",
    "pd.set_option('display.max_rows', 100)\n",
    "from shapely import MultiPolygon\n",
    "import numpy as np\n"
   ]
  },
  {
   "cell_type": "code",
   "execution_count": 5,
   "metadata": {},
   "outputs": [
    {
     "name": "stdout",
     "output_type": "stream",
     "text": [
      "d:\\\n"
     ]
    }
   ],
   "source": [
    "cd .."
   ]
  },
  {
   "cell_type": "code",
   "execution_count": 6,
   "metadata": {},
   "outputs": [
    {
     "name": "stdout",
     "output_type": "stream",
     "text": [
      "d:\\WDPA_WDOECM_Jul2024_Public_MYS_shp\n"
     ]
    }
   ],
   "source": [
    "cd WDPA_WDOECM_Jul2024_Public_MYS_shp"
   ]
  },
  {
   "cell_type": "code",
   "execution_count": 7,
   "metadata": {},
   "outputs": [],
   "source": [
    "df1 = gpd.read_file('WDPA_WDOECM_Jul2024_Public_MYS_shp_0/WDPA_WDOECM_Jul2024_Public_MYS_shp-polygons.shp')\n",
    "df2 = gpd.read_file('WDPA_WDOECM_Jul2024_Public_MYS_shp_1/WDPA_WDOECM_Jul2024_Public_MYS_shp-polygons.shp')\n",
    "df3 = gpd.read_file('WDPA_WDOECM_Jul2024_Public_MYS_shp_2/WDPA_WDOECM_Jul2024_Public_MYS_shp-polygons.shp')"
   ]
  },
  {
   "cell_type": "code",
   "execution_count": 8,
   "metadata": {},
   "outputs": [
    {
     "data": {
      "text/plain": [
       "(485, 31)"
      ]
     },
     "execution_count": 8,
     "metadata": {},
     "output_type": "execute_result"
    }
   ],
   "source": [
    "data = pd.concat([df1,df2,df3])\n",
    "data.shape"
   ]
  },
  {
   "cell_type": "code",
   "execution_count": 10,
   "metadata": {},
   "outputs": [],
   "source": [
    "def split_multipolygon(multipolygon):\n",
    "    polygons_l = []\n",
    "    if type(multipolygon) == MultiPolygon:\n",
    "        for poly in multipolygon.geoms:\n",
    "            polygons_l.append(poly)\n",
    "        return polygons_l\n",
    "    else:\n",
    "        return multipolygon"
   ]
  },
  {
   "cell_type": "code",
   "execution_count": 11,
   "metadata": {},
   "outputs": [],
   "source": [
    "\n",
    "\n",
    "def convert_to_array(row):\n",
    "    if type(row) != MultiPolygon:\n",
    "        return list(map(list, row.exterior.coords))\n",
    "    else:\n",
    "        a = []\n",
    "        for poly in row.geoms:\n",
    "            a.append(list(map(list, poly.exterior.coords)))\n",
    "        return a"
   ]
  },
  {
   "cell_type": "code",
   "execution_count": 31,
   "metadata": {},
   "outputs": [],
   "source": [
    "# data['geojson'] = data['geometry'].apply(split_multipolygon)\n",
    "# data = data.explode('geojson')\n",
    "data['geojson'] = data['geometry'].apply(convert_to_array)\n",
    "data['centroid'] = data['geometry'].apply(lambda x: x.centroid)\n",
    "data['lon'] = data['centroid'].apply(lambda x: x.x)\n",
    "data['lat'] = data['centroid'].apply(lambda x: x.y)"
   ]
  },
  {
   "cell_type": "code",
   "execution_count": 32,
   "metadata": {},
   "outputs": [
    {
     "data": {
      "text/plain": [
       "(485, 35)"
      ]
     },
     "execution_count": 32,
     "metadata": {},
     "output_type": "execute_result"
    }
   ],
   "source": [
    "data.shape"
   ]
  },
  {
   "cell_type": "code",
   "execution_count": 33,
   "metadata": {},
   "outputs": [
    {
     "data": {
      "text/html": [
       "<div>\n",
       "<style scoped>\n",
       "    .dataframe tbody tr th:only-of-type {\n",
       "        vertical-align: middle;\n",
       "    }\n",
       "\n",
       "    .dataframe tbody tr th {\n",
       "        vertical-align: top;\n",
       "    }\n",
       "\n",
       "    .dataframe thead th {\n",
       "        text-align: right;\n",
       "    }\n",
       "</style>\n",
       "<table border=\"1\" class=\"dataframe\">\n",
       "  <thead>\n",
       "    <tr style=\"text-align: right;\">\n",
       "      <th></th>\n",
       "      <th>WDPAID</th>\n",
       "      <th>WDPA_PID</th>\n",
       "      <th>PA_DEF</th>\n",
       "      <th>NAME</th>\n",
       "      <th>ORIG_NAME</th>\n",
       "      <th>DESIG</th>\n",
       "      <th>DESIG_ENG</th>\n",
       "      <th>DESIG_TYPE</th>\n",
       "      <th>IUCN_CAT</th>\n",
       "      <th>INT_CRIT</th>\n",
       "      <th>...</th>\n",
       "      <th>SUB_LOC</th>\n",
       "      <th>PARENT_ISO</th>\n",
       "      <th>ISO3</th>\n",
       "      <th>SUPP_INFO</th>\n",
       "      <th>CONS_OBJ</th>\n",
       "      <th>geometry</th>\n",
       "      <th>geojson</th>\n",
       "      <th>centroid</th>\n",
       "      <th>lat</th>\n",
       "      <th>lon</th>\n",
       "    </tr>\n",
       "  </thead>\n",
       "  <tbody>\n",
       "    <tr>\n",
       "      <th>0</th>\n",
       "      <td>785.0</td>\n",
       "      <td>785</td>\n",
       "      <td>1</td>\n",
       "      <td>Kinabalu Park</td>\n",
       "      <td>Kinabalu Park</td>\n",
       "      <td>State Park</td>\n",
       "      <td>State Park</td>\n",
       "      <td>National</td>\n",
       "      <td>II</td>\n",
       "      <td>Not Applicable</td>\n",
       "      <td>...</td>\n",
       "      <td>Not Reported</td>\n",
       "      <td>MYS</td>\n",
       "      <td>MYS</td>\n",
       "      <td>Not Applicable</td>\n",
       "      <td>Not Applicable</td>\n",
       "      <td>POLYGON ((116.56802 6.49486, 116.59828 6.49386...</td>\n",
       "      <td>[[116.56801691299995, 6.494857425000021], [116...</td>\n",
       "      <td>POINT (116.62721 6.19652)</td>\n",
       "      <td>6.196520</td>\n",
       "      <td>116.627207</td>\n",
       "    </tr>\n",
       "    <tr>\n",
       "      <th>1</th>\n",
       "      <td>786.0</td>\n",
       "      <td>786</td>\n",
       "      <td>1</td>\n",
       "      <td>Similajau National Park</td>\n",
       "      <td>Similajau National Park</td>\n",
       "      <td>National Park</td>\n",
       "      <td>National Park</td>\n",
       "      <td>National</td>\n",
       "      <td>II</td>\n",
       "      <td>Not Applicable</td>\n",
       "      <td>...</td>\n",
       "      <td>Not Reported</td>\n",
       "      <td>MYS</td>\n",
       "      <td>MYS</td>\n",
       "      <td>Not Applicable</td>\n",
       "      <td>Not Applicable</td>\n",
       "      <td>POLYGON ((113.12124 3.31088, 113.13789 3.33705...</td>\n",
       "      <td>[[113.12123628899997, 3.310880121000025], [113...</td>\n",
       "      <td>POINT (113.22406 3.41871)</td>\n",
       "      <td>3.418714</td>\n",
       "      <td>113.224056</td>\n",
       "    </tr>\n",
       "    <tr>\n",
       "      <th>2</th>\n",
       "      <td>787.0</td>\n",
       "      <td>787</td>\n",
       "      <td>1</td>\n",
       "      <td>Gunung Mulu National Park</td>\n",
       "      <td>Gunung Mulu National Park</td>\n",
       "      <td>National Park</td>\n",
       "      <td>National Park</td>\n",
       "      <td>National</td>\n",
       "      <td>II</td>\n",
       "      <td>Not Applicable</td>\n",
       "      <td>...</td>\n",
       "      <td>Not Reported</td>\n",
       "      <td>MYS</td>\n",
       "      <td>MYS</td>\n",
       "      <td>Not Applicable</td>\n",
       "      <td>Not Applicable</td>\n",
       "      <td>POLYGON ((114.80213 4.16403, 114.80784 4.2002,...</td>\n",
       "      <td>[[114.802133218, 4.1640345320000165], [114.807...</td>\n",
       "      <td>POINT (114.93201 4.07839)</td>\n",
       "      <td>4.078391</td>\n",
       "      <td>114.932008</td>\n",
       "    </tr>\n",
       "    <tr>\n",
       "      <th>3</th>\n",
       "      <td>788.0</td>\n",
       "      <td>788</td>\n",
       "      <td>1</td>\n",
       "      <td>Klias</td>\n",
       "      <td>Klias Protection Forest</td>\n",
       "      <td>Forest Reserve</td>\n",
       "      <td>Forest Reserve</td>\n",
       "      <td>National</td>\n",
       "      <td>Ia</td>\n",
       "      <td>Not Applicable</td>\n",
       "      <td>...</td>\n",
       "      <td>Not Reported</td>\n",
       "      <td>MYS</td>\n",
       "      <td>MYS</td>\n",
       "      <td>Not Applicable</td>\n",
       "      <td>Not Applicable</td>\n",
       "      <td>POLYGON ((115.67447 5.30466, 115.67007 5.30448...</td>\n",
       "      <td>[[115.67447278600002, 5.304658320999977], [115...</td>\n",
       "      <td>POINT (115.62975 5.29658)</td>\n",
       "      <td>5.296577</td>\n",
       "      <td>115.629749</td>\n",
       "    </tr>\n",
       "    <tr>\n",
       "      <th>4</th>\n",
       "      <td>789.0</td>\n",
       "      <td>789</td>\n",
       "      <td>1</td>\n",
       "      <td>Pulau Tiga Park</td>\n",
       "      <td>Pulau Tiga Park</td>\n",
       "      <td>State Park</td>\n",
       "      <td>State Park</td>\n",
       "      <td>National</td>\n",
       "      <td>II</td>\n",
       "      <td>Not Applicable</td>\n",
       "      <td>...</td>\n",
       "      <td>Not Reported</td>\n",
       "      <td>MYS</td>\n",
       "      <td>MYS</td>\n",
       "      <td>Not Applicable</td>\n",
       "      <td>Not Applicable</td>\n",
       "      <td>POLYGON ((115.73019 5.90843, 115.66355 5.67018...</td>\n",
       "      <td>[[115.73018599, 5.908429591000015], [115.66354...</td>\n",
       "      <td>POINT (115.66325 5.78048)</td>\n",
       "      <td>5.780478</td>\n",
       "      <td>115.663254</td>\n",
       "    </tr>\n",
       "    <tr>\n",
       "      <th>...</th>\n",
       "      <td>...</td>\n",
       "      <td>...</td>\n",
       "      <td>...</td>\n",
       "      <td>...</td>\n",
       "      <td>...</td>\n",
       "      <td>...</td>\n",
       "      <td>...</td>\n",
       "      <td>...</td>\n",
       "      <td>...</td>\n",
       "      <td>...</td>\n",
       "      <td>...</td>\n",
       "      <td>...</td>\n",
       "      <td>...</td>\n",
       "      <td>...</td>\n",
       "      <td>...</td>\n",
       "      <td>...</td>\n",
       "      <td>...</td>\n",
       "      <td>...</td>\n",
       "      <td>...</td>\n",
       "      <td>...</td>\n",
       "      <td>...</td>\n",
       "    </tr>\n",
       "    <tr>\n",
       "      <th>156</th>\n",
       "      <td>555705837.0</td>\n",
       "      <td>555705837</td>\n",
       "      <td>1</td>\n",
       "      <td>Pulau Labas Marine Park</td>\n",
       "      <td>Pulau Labas Marine Park</td>\n",
       "      <td>Marine Park</td>\n",
       "      <td>Marine Park</td>\n",
       "      <td>National</td>\n",
       "      <td>II</td>\n",
       "      <td>Not Applicable</td>\n",
       "      <td>...</td>\n",
       "      <td>MY-06</td>\n",
       "      <td>MYS</td>\n",
       "      <td>MYS</td>\n",
       "      <td>Not Applicable</td>\n",
       "      <td>Not Applicable</td>\n",
       "      <td>POLYGON ((104.10008 2.90125, 104.10055 2.8998,...</td>\n",
       "      <td>[[104.10007894199998, 2.901245502999984], [104...</td>\n",
       "      <td>POINT (104.06669 2.88888)</td>\n",
       "      <td>2.888885</td>\n",
       "      <td>104.066692</td>\n",
       "    </tr>\n",
       "    <tr>\n",
       "      <th>157</th>\n",
       "      <td>555705838.0</td>\n",
       "      <td>555705838</td>\n",
       "      <td>1</td>\n",
       "      <td>Pulau Ceben Marine Park</td>\n",
       "      <td>Pulau Ceben Marine Park</td>\n",
       "      <td>Marine Park</td>\n",
       "      <td>Marine Park</td>\n",
       "      <td>National</td>\n",
       "      <td>II</td>\n",
       "      <td>Not Applicable</td>\n",
       "      <td>...</td>\n",
       "      <td>MY-06</td>\n",
       "      <td>MYS</td>\n",
       "      <td>MYS</td>\n",
       "      <td>Not Applicable</td>\n",
       "      <td>Not Applicable</td>\n",
       "      <td>POLYGON ((104.13193 2.93579, 104.13194 2.93503...</td>\n",
       "      <td>[[104.131932705, 2.9357905570000185], [104.131...</td>\n",
       "      <td>POINT (104.09731 2.93413)</td>\n",
       "      <td>2.934131</td>\n",
       "      <td>104.097309</td>\n",
       "    </tr>\n",
       "    <tr>\n",
       "      <th>158</th>\n",
       "      <td>555705839.0</td>\n",
       "      <td>555705839</td>\n",
       "      <td>1</td>\n",
       "      <td>Pulau Jahat Marine Park</td>\n",
       "      <td>Pulau Jahat Marine Park</td>\n",
       "      <td>Marine Park</td>\n",
       "      <td>Marine Park</td>\n",
       "      <td>National</td>\n",
       "      <td>II</td>\n",
       "      <td>Not Applicable</td>\n",
       "      <td>...</td>\n",
       "      <td>MY-06</td>\n",
       "      <td>MYS</td>\n",
       "      <td>MYS</td>\n",
       "      <td>Not Applicable</td>\n",
       "      <td>Not Applicable</td>\n",
       "      <td>POLYGON ((104.19689 2.66812, 104.19696 2.6666,...</td>\n",
       "      <td>[[104.19688907900002, 2.6681199039999797], [10...</td>\n",
       "      <td>POINT (104.16224 2.66554)</td>\n",
       "      <td>2.665541</td>\n",
       "      <td>104.162241</td>\n",
       "    </tr>\n",
       "    <tr>\n",
       "      <th>159</th>\n",
       "      <td>555705840.0</td>\n",
       "      <td>555705840</td>\n",
       "      <td>1</td>\n",
       "      <td>Pulau Tulai Marine Park</td>\n",
       "      <td>Pulau Tulai Marine Park</td>\n",
       "      <td>Marine Park</td>\n",
       "      <td>Marine Park</td>\n",
       "      <td>National</td>\n",
       "      <td>II</td>\n",
       "      <td>Not Applicable</td>\n",
       "      <td>...</td>\n",
       "      <td>MY-06</td>\n",
       "      <td>MYS</td>\n",
       "      <td>MYS</td>\n",
       "      <td>Not Applicable</td>\n",
       "      <td>Not Applicable</td>\n",
       "      <td>POLYGON ((104.13779 2.93643, 104.13885 2.93534...</td>\n",
       "      <td>[[104.13779098499998, 2.936429345000022], [104...</td>\n",
       "      <td>POINT (104.10655 2.91127)</td>\n",
       "      <td>2.911267</td>\n",
       "      <td>104.106551</td>\n",
       "    </tr>\n",
       "    <tr>\n",
       "      <th>160</th>\n",
       "      <td>555721606.0</td>\n",
       "      <td>555721606</td>\n",
       "      <td>1</td>\n",
       "      <td>Luconia Shoals National Park</td>\n",
       "      <td>Luconia Shoals National Park</td>\n",
       "      <td>National Park</td>\n",
       "      <td>National Park</td>\n",
       "      <td>National</td>\n",
       "      <td>Not Reported</td>\n",
       "      <td>Not Applicable</td>\n",
       "      <td>...</td>\n",
       "      <td>Not Reported</td>\n",
       "      <td>MYS</td>\n",
       "      <td>MYS</td>\n",
       "      <td>Not Applicable</td>\n",
       "      <td>Not Applicable</td>\n",
       "      <td>POLYGON ((112.964 4.80203, 112.64354 4.74868, ...</td>\n",
       "      <td>[[112.96399584300002, 4.802032779000001], [112...</td>\n",
       "      <td>POINT (112.59021 5.37564)</td>\n",
       "      <td>5.375636</td>\n",
       "      <td>112.590207</td>\n",
       "    </tr>\n",
       "  </tbody>\n",
       "</table>\n",
       "<p>485 rows × 35 columns</p>\n",
       "</div>"
      ],
      "text/plain": [
       "          WDPAID   WDPA_PID PA_DEF                          NAME  \\\n",
       "0          785.0        785      1                 Kinabalu Park   \n",
       "1          786.0        786      1       Similajau National Park   \n",
       "2          787.0        787      1     Gunung Mulu National Park   \n",
       "3          788.0        788      1                         Klias   \n",
       "4          789.0        789      1               Pulau Tiga Park   \n",
       "..           ...        ...    ...                           ...   \n",
       "156  555705837.0  555705837      1       Pulau Labas Marine Park   \n",
       "157  555705838.0  555705838      1       Pulau Ceben Marine Park   \n",
       "158  555705839.0  555705839      1       Pulau Jahat Marine Park   \n",
       "159  555705840.0  555705840      1       Pulau Tulai Marine Park   \n",
       "160  555721606.0  555721606      1  Luconia Shoals National Park   \n",
       "\n",
       "                        ORIG_NAME           DESIG       DESIG_ENG DESIG_TYPE  \\\n",
       "0                   Kinabalu Park      State Park      State Park   National   \n",
       "1         Similajau National Park   National Park   National Park   National   \n",
       "2       Gunung Mulu National Park   National Park   National Park   National   \n",
       "3         Klias Protection Forest  Forest Reserve  Forest Reserve   National   \n",
       "4                 Pulau Tiga Park      State Park      State Park   National   \n",
       "..                            ...             ...             ...        ...   \n",
       "156       Pulau Labas Marine Park     Marine Park     Marine Park   National   \n",
       "157       Pulau Ceben Marine Park     Marine Park     Marine Park   National   \n",
       "158       Pulau Jahat Marine Park     Marine Park     Marine Park   National   \n",
       "159       Pulau Tulai Marine Park     Marine Park     Marine Park   National   \n",
       "160  Luconia Shoals National Park   National Park   National Park   National   \n",
       "\n",
       "         IUCN_CAT        INT_CRIT  ...       SUB_LOC  PARENT_ISO  ISO3  \\\n",
       "0              II  Not Applicable  ...  Not Reported         MYS   MYS   \n",
       "1              II  Not Applicable  ...  Not Reported         MYS   MYS   \n",
       "2              II  Not Applicable  ...  Not Reported         MYS   MYS   \n",
       "3              Ia  Not Applicable  ...  Not Reported         MYS   MYS   \n",
       "4              II  Not Applicable  ...  Not Reported         MYS   MYS   \n",
       "..            ...             ...  ...           ...         ...   ...   \n",
       "156            II  Not Applicable  ...         MY-06         MYS   MYS   \n",
       "157            II  Not Applicable  ...         MY-06         MYS   MYS   \n",
       "158            II  Not Applicable  ...         MY-06         MYS   MYS   \n",
       "159            II  Not Applicable  ...         MY-06         MYS   MYS   \n",
       "160  Not Reported  Not Applicable  ...  Not Reported         MYS   MYS   \n",
       "\n",
       "          SUPP_INFO        CONS_OBJ  \\\n",
       "0    Not Applicable  Not Applicable   \n",
       "1    Not Applicable  Not Applicable   \n",
       "2    Not Applicable  Not Applicable   \n",
       "3    Not Applicable  Not Applicable   \n",
       "4    Not Applicable  Not Applicable   \n",
       "..              ...             ...   \n",
       "156  Not Applicable  Not Applicable   \n",
       "157  Not Applicable  Not Applicable   \n",
       "158  Not Applicable  Not Applicable   \n",
       "159  Not Applicable  Not Applicable   \n",
       "160  Not Applicable  Not Applicable   \n",
       "\n",
       "                                              geometry  \\\n",
       "0    POLYGON ((116.56802 6.49486, 116.59828 6.49386...   \n",
       "1    POLYGON ((113.12124 3.31088, 113.13789 3.33705...   \n",
       "2    POLYGON ((114.80213 4.16403, 114.80784 4.2002,...   \n",
       "3    POLYGON ((115.67447 5.30466, 115.67007 5.30448...   \n",
       "4    POLYGON ((115.73019 5.90843, 115.66355 5.67018...   \n",
       "..                                                 ...   \n",
       "156  POLYGON ((104.10008 2.90125, 104.10055 2.8998,...   \n",
       "157  POLYGON ((104.13193 2.93579, 104.13194 2.93503...   \n",
       "158  POLYGON ((104.19689 2.66812, 104.19696 2.6666,...   \n",
       "159  POLYGON ((104.13779 2.93643, 104.13885 2.93534...   \n",
       "160  POLYGON ((112.964 4.80203, 112.64354 4.74868, ...   \n",
       "\n",
       "                                               geojson  \\\n",
       "0    [[116.56801691299995, 6.494857425000021], [116...   \n",
       "1    [[113.12123628899997, 3.310880121000025], [113...   \n",
       "2    [[114.802133218, 4.1640345320000165], [114.807...   \n",
       "3    [[115.67447278600002, 5.304658320999977], [115...   \n",
       "4    [[115.73018599, 5.908429591000015], [115.66354...   \n",
       "..                                                 ...   \n",
       "156  [[104.10007894199998, 2.901245502999984], [104...   \n",
       "157  [[104.131932705, 2.9357905570000185], [104.131...   \n",
       "158  [[104.19688907900002, 2.6681199039999797], [10...   \n",
       "159  [[104.13779098499998, 2.936429345000022], [104...   \n",
       "160  [[112.96399584300002, 4.802032779000001], [112...   \n",
       "\n",
       "                      centroid       lat         lon  \n",
       "0    POINT (116.62721 6.19652)  6.196520  116.627207  \n",
       "1    POINT (113.22406 3.41871)  3.418714  113.224056  \n",
       "2    POINT (114.93201 4.07839)  4.078391  114.932008  \n",
       "3    POINT (115.62975 5.29658)  5.296577  115.629749  \n",
       "4    POINT (115.66325 5.78048)  5.780478  115.663254  \n",
       "..                         ...       ...         ...  \n",
       "156  POINT (104.06669 2.88888)  2.888885  104.066692  \n",
       "157  POINT (104.09731 2.93413)  2.934131  104.097309  \n",
       "158  POINT (104.16224 2.66554)  2.665541  104.162241  \n",
       "159  POINT (104.10655 2.91127)  2.911267  104.106551  \n",
       "160  POINT (112.59021 5.37564)  5.375636  112.590207  \n",
       "\n",
       "[485 rows x 35 columns]"
      ]
     },
     "execution_count": 33,
     "metadata": {},
     "output_type": "execute_result"
    }
   ],
   "source": [
    "data"
   ]
  },
  {
   "cell_type": "code",
   "execution_count": 14,
   "metadata": {},
   "outputs": [
    {
     "data": {
      "text/plain": [
       "<Axes: >"
      ]
     },
     "execution_count": 14,
     "metadata": {},
     "output_type": "execute_result"
    },
    {
     "data": {
      "image/png": "[encoded data removed]",
      "text/plain": [
       "<Figure size 640x480 with 1 Axes>"
      ]
     },
     "metadata": {},
     "output_type": "display_data"
    }
   ],
   "source": [
    "data.plot()"
   ]
  },
  {
   "cell_type": "code",
   "execution_count": 34,
   "metadata": {},
   "outputs": [],
   "source": [
    "#excel limit 32k characters per cell\n",
    "data.drop(['geometry', 'centroid'], axis=1).to_csv('ductt_test_geojson.csv', index=False)"
   ]
  },
  {
   "cell_type": "code",
   "execution_count": 30,
   "metadata": {},
   "outputs": [
    {
     "data": {
      "text/plain": [
       "'d:\\\\WDPA_WDOECM_Jul2024_Public_MYS_shp'"
      ]
     },
     "execution_count": 30,
     "metadata": {},
     "output_type": "execute_result"
    }
   ],
   "source": [
    "data.to_file('ductt_test_geojson.json', driver=\"GeoJSON\")"
   ]
  },
  {
   "cell_type": "code",
   "execution_count": 35,
   "metadata": {},
   "outputs": [],
   "source": [
    "# KMZ"
   ]
  },
  {
   "cell_type": "code",
   "execution_count": null,
   "metadata": {},
   "outputs": [],
   "source": []
  },
  {
   "cell_type": "code",
   "execution_count": 48,
   "metadata": {},
   "outputs": [],
   "source": []
  },
  {
   "cell_type": "code",
   "execution_count": 55,
   "metadata": {},
   "outputs": [],
   "source": [
    "gdf = gpd.read_file('Copy+1+of+KLSM+Master+MAP.csv')\n",
    "gdf['type'] = gdf['geometry'].apply(lambda x: x.geom_type)\n",
    "gdf['centroid'] = gdf['geometry'].apply(lambda x: x.centroid)\n",
    "gdf['lon'] = gdf['centroid'].apply(lambda x: x.x)\n",
    "gdf['lat'] = gdf['centroid'].apply(lambda x: x.y)"
   ]
  },
  {
   "cell_type": "code",
   "execution_count": 57,
   "metadata": {},
   "outputs": [],
   "source": [
    "gdf.drop(['geometry', 'centroid'], axis=1).to_csv('ductt_test_geojson_2.csv', index=False)"
   ]
  }
 ],
 "metadata": {
  "kernelspec": {
   "display_name": "Python 3",
   "language": "python",
   "name": "python3"
  },
  "language_info": {
   "codemirror_mode": {
    "name": "ipython",
    "version": 3
   },
   "file_extension": ".py",
   "mimetype": "text/x-python",
   "name": "python",
   "nbconvert_exporter": "python",
   "pygments_lexer": "ipython3",
   "version": "3.9.10"
  }
 },
 "nbformat": 4,
 "nbformat_minor": 2
}
